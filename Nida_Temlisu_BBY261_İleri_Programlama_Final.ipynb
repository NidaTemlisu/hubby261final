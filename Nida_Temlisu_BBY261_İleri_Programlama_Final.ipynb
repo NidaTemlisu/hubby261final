{
  "nbformat": 4,
  "nbformat_minor": 0,
  "metadata": {
    "colab": {
      "provenance": [],
      "include_colab_link": true
    },
    "kernelspec": {
      "name": "python3",
      "display_name": "Python 3"
    },
    "language_info": {
      "name": "python"
    }
  },
  "cells": [
    {
      "cell_type": "markdown",
      "metadata": {
        "id": "view-in-github",
        "colab_type": "text"
      },
      "source": [
        "<a href=\"https://colab.research.google.com/github/NidaTemlisu/hubby261final/blob/main/Nida_Temlisu_BBY261_%C4%B0leri_Programlama_Final.ipynb\" target=\"_parent\"><img src=\"https://colab.research.google.com/assets/colab-badge.svg\" alt=\"Open In Colab\"/></a>"
      ]
    },
    {
      "cell_type": "markdown",
      "source": [
        "**BBY261 Final Sınavına Hoşgeldiniz**\n",
        "\n",
        "Bu Colab not defterinin bir kopyasını kendi \"Google Drive\" hesabınızda \"Dosya >  Drive'da bir kopya kaydet\" seçeneği ile oluşturunuz. Sorulara kendi oluşturduğunuz kopya içinde yanıt veriniz. Her sorunun altında sorunun yanıtlanacağı kod alanı yer almaktadır, sadece bu alanı kullanınız.\n",
        "\n",
        "Github hesabınızda \"hubby261final\" adlı kod deposu oluşturunuz. Çalışmanızı tamamladığınızda Colab dosyanızı Github hesabınızda oluşturduğunuz \"hubby261final\" adlı kod deposuna (repository) \"Dosya > Github'da bir kopya kaydet\" seçeneği ile kaydediniz.\n",
        "\n",
        "Not: Tüm işlemleri tamamladığınızda sınavınızı başarıyla teslim edip edemediğinizi kontrol etmem gerekiyor. Bu açıdan sınavı tamamladığınızda lütfen bana haber verin ve kontrol işlemini birlikte gerçekleştirelim.\n",
        "\n",
        "Süreniz **1** saattir!\n",
        "\n",
        "*Başarılar...*"
      ],
      "metadata": {
        "id": "LwfacJaeu2VZ"
      }
    },
    {
      "cell_type": "markdown",
      "source": [
        "# Soru 1\n",
        "\n",
        "Kod bölümünde verilen paragrafın içindeki kelimelerin sıklıklarını (her bir kelimenin paragraf içinde kaç tane geçtiğini) ekrana listeyelecek kodu yazın. (25 Puan)\n",
        "\n",
        "Örnek çıktı aşağıdaki gibi olmalıdır:\n",
        "\n",
        "```\n",
        "elma - 3\n",
        "armut - 5\n",
        "karpuz - 2\n",
        "...\n",
        "```"
      ],
      "metadata": {
        "id": "N3CYVfJUyLQX"
      }
    },
    {
      "cell_type": "code",
      "execution_count": 1,
      "metadata": {
        "id": "m9Xix4Enun8Z",
        "colab": {
          "base_uri": "https://localhost:8080/"
        },
        "outputId": "a16e17ab-5dfe-4b7e-bc64-ef6d95a2a65b"
      },
      "outputs": [
        {
          "output_type": "stream",
          "name": "stdout",
          "text": [
            "the - 14\n",
            "power - 2\n",
            "of - 9\n",
            "open - 4\n",
            "culture - 1\n",
            "at - 1\n",
            "creative - 2\n",
            "commons - 2\n",
            "we - 1\n",
            "truly - 1\n",
            "believe - 1\n",
            "in - 6\n",
            "access - 2\n",
            "to - 6\n",
            "cultural - 4\n",
            "heritage - 3\n",
            "this - 1\n",
            "type - 1\n",
            "better - 2\n",
            "sharing - 2\n",
            "helps - 1\n",
            "build - 3\n",
            "and - 12\n",
            "sustain - 1\n",
            "vibrant - 1\n",
            "thriving - 1\n",
            "societies - 1\n",
            "galleries - 1\n",
            "libraries - 1\n",
            "archives - 1\n",
            "museums - 1\n",
            "glams - 5\n",
            "have - 1\n",
            "been - 1\n",
            "gate - 1\n",
            "openers - 1\n",
            "world - 1\n",
            "s - 1\n",
            "for - 4\n",
            "centuries - 1\n",
            "play - 1\n",
            "a - 2\n",
            "fundamental - 1\n",
            "role - 1\n",
            "communities - 2\n",
            "that - 2\n",
            "they - 4\n",
            "serve - 1\n",
            "provide - 1\n",
            "resources - 2\n",
            "services - 1\n",
            "enjoyment - 1\n",
            "education - 1\n",
            "research - 1\n",
            "advancement - 1\n",
            "knowledge - 1\n",
            "stimulate - 1\n",
            "creativity - 1\n",
            "innovation - 1\n",
            "service - 1\n",
            "global - 1\n",
            "sustainable - 1\n",
            "development - 1\n",
            "by - 2\n",
            "making - 1\n",
            "their - 3\n",
            "collections - 2\n",
            "as - 2\n",
            "openly - 2\n",
            "accessible - 2\n",
            "shareable - 1\n",
            "reusable - 1\n",
            "possible - 1\n",
            "public - 1\n",
            "both - 1\n",
            "on - 2\n",
            "site - 1\n",
            "online - 2\n",
            "empower - 1\n",
            "people - 1\n",
            "generation - 2\n",
            "after - 1\n",
            "offering - 1\n",
            "them - 1\n",
            "scientific - 1\n",
            "historical - 1\n",
            "socio - 1\n",
            "future - 1\n",
            "themselves - 1\n",
            "list - 1\n",
            "with - 1\n",
            "programs - 2\n",
            "gets - 1\n",
            "longer - 1\n",
            "every - 1\n",
            "day - 1\n",
            "however - 1\n",
            "those - 1\n",
            "don - 1\n",
            "t - 1\n",
            "just - 1\n",
            "happen - 1\n",
            "experience - 1\n",
            "pioneering - 1\n",
            "set - 1\n",
            "trend - 1\n",
            "early - 1\n",
            "days - 1\n",
            "movement - 1\n",
            "unfortunately - 1\n",
            "today - 1\n",
            "still - 1\n",
            "face - 1\n",
            "many - 1\n",
            "barriers - 2\n",
            "trying - 1\n",
            "make - 1\n",
            "strives - 1\n",
            "support - 1\n",
            "overcoming - 1\n",
            "these - 1\n",
            "achieve - 1\n"
          ]
        }
      ],
      "source": [
        "#Sıklık hesabı yapılacak Paragraf\n",
        "paragraf = \"The power of open culture. At Creative Commons, we truly believe in the power of open access to cultural heritage. This type of better sharing helps build and sustain vibrant and thriving societies. Galleries, libraries, archives, and museums (GLAMs) have been the gate openers to the world’s cultural heritage for centuries, and play a fundamental role for the communities that they serve. They provide resources and services for enjoyment, education, research, and the advancement of knowledge, and stimulate creativity and innovation in the service of global sustainable development. By making their collections as openly accessible, shareable, and reusable as possible by the public — both on-site and online — they empower people, generation after generation, in offering them the scientific, historical, and socio-cultural resources to build a future for themselves and their communities. The list of GLAMs with open access programs gets longer every day. However, those programs don’t just happen. They build on the experience of pioneering GLAMs that set the trend in the early days of the open movement. Unfortunately, today still, GLAMs face many barriers in trying to make their collections openly accessible online. Creative Commons strives to support GLAMs in overcoming these barriers to achieve better sharing of cultural heritage.\"\n",
        "\n",
        "#Sizin kodlarınız\n",
        "from collections import Counter\n",
        "import re\n",
        "\n",
        "paragraph = \"\"\"\n",
        "The power of open culture. At Creative Commons, we truly believe in the power of open access to cultural heritage. This type of better sharing helps build and sustain vibrant and thriving societies. Galleries, libraries, archives, and museums (GLAMs) have been the gate openers to the world’s cultural heritage for centuries, and play a fundamental role for the communities that they serve. They provide resources and services for enjoyment, education, research, and the advancement of knowledge, and stimulate creativity and innovation in the service of global sustainable development. By making their collections as openly accessible, shareable, and reusable as possible by the public — both on-site and online — they empower people, generation after generation, in offering them the scientific, historical, and socio-cultural resources to build a future for themselves and their communities. The list of GLAMs with open access programs gets longer every day. However, those programs don’t just happen. They build on the experience of pioneering GLAMs that set the trend in the early days of the open movement. Unfortunately, today still, GLAMs face many barriers in trying to make their collections openly accessible online. Creative Commons strives to support GLAMs in overcoming these barriers to achieve better sharing of cultural heritage.\n",
        "\"\"\"\n",
        "\n",
        "# Kelimeleri temizleme ve küçük harfe çevirme\n",
        "cleaned_paragraph = re.sub(r'\\W', ' ', paragraph.lower())\n",
        "\n",
        "# Kelimelerin sıklıklarını hesapla\n",
        "word_counts = Counter(cleaned_paragraph.split())\n",
        "\n",
        "# Sonuçları ekrana yazdır\n",
        "for word, count in word_counts.items():\n",
        "    print(f\"{word} - {count}\")\n"
      ]
    },
    {
      "cell_type": "markdown",
      "source": [
        "# Soru 2\n",
        "\n",
        "Kod bölümünde verilen URL'de yer alan web sayfasında \"h2\" etiketi ile işaretlenmiş metinleri ekrana listeleyecek kodu yazın. (25 Puan)\n",
        "\n",
        "Örnek çıktı aşağıdaki gibi olmalıdır:\n",
        "\n",
        "\n",
        "```\n",
        "Who We Are\n",
        "Our mission\n",
        "Our vision\n",
        "...\n",
        "```\n",
        "\n"
      ],
      "metadata": {
        "id": "uIuXDXBd3whN"
      }
    },
    {
      "cell_type": "code",
      "source": [
        "#h2 etiketlerinin okunacağı URL\n",
        "url = \"https://creativecommons.org/mission/\"\n",
        "\n",
        "#Sizin kodlarınız\n",
        "import requests\n",
        "from bs4 import BeautifulSoup\n",
        "\n",
        "url = \"https://creativecommons.org/mission/\"\n",
        "\n",
        "# Web sayfasını indirme\n",
        "response = requests.get(url)\n",
        "\n",
        "# HTML içeriğini parse etme\n",
        "soup = BeautifulSoup(response.text, 'html.parser')\n",
        "\n",
        "# \"h2\" etiketleri içindeki metinleri bulma\n",
        "h2_elements = soup.find_all('h2')\n",
        "\n",
        "# Bulunan metinleri ekrana yazdırma\n",
        "for h2 in h2_elements:\n",
        "    print(h2.text.strip())\n"
      ],
      "metadata": {
        "id": "vonGuadn4kwE",
        "colab": {
          "base_uri": "https://localhost:8080/"
        },
        "outputId": "afd047e1-c8d7-463e-93f5-3252f8bd10f1"
      },
      "execution_count": 2,
      "outputs": [
        {
          "output_type": "stream",
          "name": "stdout",
          "text": [
            "Who We Are\n",
            "Our mission\n",
            "Our vision\n",
            "Our strategy\n",
            "Our values\n",
            "Contact Us\n",
            "Subscribe to our Newsletter\n",
            "Support Our Work\n"
          ]
        }
      ]
    },
    {
      "cell_type": "markdown",
      "source": [
        "# Soru 3\n",
        "\n",
        "Kullanıcı tarafından girilen bir sayısının asal sayı olup olmadığını kontrol edecek bir \"asal sayı tahmin oyunu\" kodlayınız. Bu oyunda kullanıcı asal sayı girdiği sürecek ikinci bir tahmin hakkı verilmeli, asal sayı girmediği zaman ise oyun sona erdirilmelidir. (25 Puan)"
      ],
      "metadata": {
        "id": "zEAR579V5al1"
      }
    },
    {
      "cell_type": "code",
      "source": [
        "#Veri girişi\n",
        "\n",
        "\n",
        "# Sizin kodlarınız\n",
        "def is_prime(num):\n",
        "    \"\"\"Verilen sayının asal olup olmadığını kontrol eden fonksiyon.\"\"\"\n",
        "    if num < 2:\n",
        "        return False\n",
        "    for i in range(2, int(num**0.5) + 1):\n",
        "        if num % i == 0:\n",
        "            return False\n",
        "    return True\n",
        "\n",
        "def prime_guessing_game():\n",
        "    \"\"\"Asal sayı tahmin oyunu.\"\"\"\n",
        "    print(\"Asal Sayı Tahmin Oyununa Hoş Geldiniz!\")\n",
        "    print(\"Oyundan çıkmak için herhangi bir zaman 'q' tuşuna basabilirsiniz.\")\n",
        "\n",
        "    while True:\n",
        "        user_input = input(\"Bir sayı girin: \")\n",
        "\n",
        "        if user_input.lower() == 'q':\n",
        "            print(\"Oyun sona erdi. İyi günler!\")\n",
        "            break\n",
        "\n",
        "        try:\n",
        "            user_number = int(user_input)\n",
        "        except ValueError:\n",
        "            print(\"Geçersiz giriş. Lütfen bir sayı girin.\")\n",
        "            continue\n",
        "\n",
        "        if is_prime(user_number):\n",
        "            print(\"Tebrikler! Girdiğiniz sayı bir asal sayıdır.\")\n",
        "        else:\n",
        "            print(\"Üzgünüz, girdiğiniz sayı bir asal sayı değildir.\")\n",
        "\n",
        "            second_attempt = input(\"İkinci bir sayı tahmin edin veya çıkmak için 'q' tuşuna basın: \")\n",
        "            if second_attempt.lower() == 'q':\n",
        "                print(\"Oyun sona erdi. İyi günler!\")\n",
        "                break\n",
        "\n",
        "            try:\n",
        "                second_number = int(second_attempt)\n",
        "            except ValueError:\n",
        "                print(\"Geçersiz giriş. Lütfen bir sayı girin.\")\n",
        "                continue\n",
        "\n",
        "            if is_prime(second_number):\n",
        "                print(\"Tebrikler! İkinci tahmininiz doğru. Girdiğiniz sayı bir asal sayıdır.\")\n",
        "            else:\n",
        "                print(\"Üzgünüz, ikinci tahmininiz de doğru değil. Oyun sona erdi.\")\n",
        "                break\n",
        "\n",
        "# Asal sayı tahmin oyununu başlat\n",
        "prime_guessing_game()\n"
      ],
      "metadata": {
        "id": "ntHxasd87B1f",
        "colab": {
          "base_uri": "https://localhost:8080/"
        },
        "outputId": "0388225b-b2f1-4e7a-e582-4b726e6856b3"
      },
      "execution_count": 15,
      "outputs": [
        {
          "output_type": "stream",
          "name": "stdout",
          "text": [
            "Asal Sayı Tahmin Oyununa Hoş Geldiniz!\n",
            "Oyundan çıkmak için herhangi bir zaman 'q' tuşuna basabilirsiniz.\n",
            "Bir sayı girin: 2\n",
            "Tebrikler! Girdiğiniz sayı bir asal sayıdır.\n",
            "Bir sayı girin: 5\n",
            "Tebrikler! Girdiğiniz sayı bir asal sayıdır.\n",
            "Bir sayı girin: 6\n",
            "Üzgünüz, girdiğiniz sayı bir asal sayı değildir.\n",
            "İkinci bir sayı tahmin edin veya çıkmak için 'q' tuşuna basın: 8\n",
            "Üzgünüz, ikinci tahmininiz de doğru değil. Oyun sona erdi.\n"
          ]
        }
      ]
    },
    {
      "cell_type": "markdown",
      "source": [
        "# Soru 4\n",
        "\n",
        "Kullanıcı tarafından girilen bir cümlenin \"İngilizce\" olup olmadığını anlayacak kodu yazınız. Girilen cümlenin analizinden sonra sonuç ekrana yazdırılmalı.\n",
        "\n",
        "Not: Bu soru için kullandığınız ek bir dosya varsa o dosyayı da Github deponuza eklemeyi unutmayınız.\n",
        "\n",
        "Örnek çıktı:\n",
        "\n",
        "```\n",
        "\"I want to learn Python programming in my school life\" cümlesi ingilizcedir.\n",
        "```\n"
      ],
      "metadata": {
        "id": "_3_lGQj97G4Z"
      }
    },
    {
      "cell_type": "code",
      "source": [
        "#Cümle girişi\n",
        "girdi = input(\"Bir cümle giriniz: \")\n",
        "\n",
        "# Sizin kodlarınız\n",
        "!pip install langdetect\n",
        "\n",
        "from langdetect import detect\n",
        "\n",
        "def is_english(sentence):\n",
        "    \"\"\"Verilen cümlenin İngilizce olup olmadığını kontrol eden fonksiyon.\"\"\"\n",
        "    try:\n",
        "        lang = detect(sentence)\n",
        "        return lang == 'en'\n",
        "    except:\n",
        "        return False\n",
        "\n",
        "# Kullanıcıdan cümle alınması\n",
        "user_sentence = input(\"Bir cümle girin: \")\n",
        "\n",
        "# Cümlenin İngilizce olup olmadığını kontrol etme\n",
        "if is_english(user_sentence):\n",
        "    print(\"Girilen cümle İngilizce.\")\n",
        "else:\n",
        "    print(\"Girilen cümle İngilizce değil.\")\n"
      ],
      "metadata": {
        "id": "MJb8eoth-Lam",
        "colab": {
          "base_uri": "https://localhost:8080/"
        },
        "outputId": "7a35e94c-ac76-40f7-ea0c-faef0cafdafe"
      },
      "execution_count": 9,
      "outputs": [
        {
          "output_type": "stream",
          "name": "stdout",
          "text": [
            "Bir cümle giriniz: selam nasılsın\n",
            "Requirement already satisfied: langdetect in /usr/local/lib/python3.10/dist-packages (1.0.9)\n",
            "Requirement already satisfied: six in /usr/local/lib/python3.10/dist-packages (from langdetect) (1.16.0)\n",
            "Bir cümle girin: selam nasılsın\n",
            "Girilen cümle İngilizce değil.\n"
          ]
        }
      ]
    }
  ]
}